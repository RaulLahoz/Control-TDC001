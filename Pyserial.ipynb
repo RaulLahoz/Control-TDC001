{
 "cells": [
  {
   "cell_type": "code",
   "execution_count": 1,
   "metadata": {},
   "outputs": [
    {
     "name": "stdout",
     "output_type": "stream",
     "text": [
      "Hello\n"
     ]
    }
   ],
   "source": [
    "import time\n",
    "import clr"
   ]
  },
  {
   "cell_type": "code",
   "execution_count": 4,
   "metadata": {},
   "outputs": [],
   "source": [
    "clr.AddReference(r\"C:\\Program Files\\Thorlabs\\Kinesis\\Thorlabs.MotionControl.DeviceManagerCLI.dll\")\n",
    "clr.AddReference(r\"C:\\Program Files\\Thorlabs\\Kinesis\\Thorlabs.MotionControl.GenericMotorCLI.dll\")\n",
    "clr.AddReference(r\"C:\\Program Files\\Thorlabs\\Kinesis\\Thorlabs.MotionControl.KCube.DCServoCLI.dll\")\n",
    "\n",
    "clr.AddReference(r\"C:\\Program Files\\Thorlabs\\Kinesis\\Thorlabs.MotionControl.TCube.DCServoCLI.dll\")\n",
    "\n",
    "from Thorlabs.MotionControl.DeviceManagerCLI import *\n",
    "from Thorlabs.MotionControl.GenericMotorCLI import *\n",
    "from Thorlabs.MotionControl.GenericMotorCLI import KCubeMotor\n",
    "from Thorlabs.MotionControl.GenericMotorCLI.ControlParameters import JogParametersBase\n",
    "from Thorlabs.MotionControl.KCube.DCServoCLI import *\n",
    "from System import Decimal\n",
    "\n",
    "from Thorlabs.MotionControl.TCube.DCServoCLI import *"
   ]
  },
  {
   "cell_type": "code",
   "execution_count": 5,
   "metadata": {},
   "outputs": [],
   "source": [
    "# Device puerto 6\n",
    "serial_num = str('83815214')"
   ]
  },
  {
   "cell_type": "code",
   "execution_count": 6,
   "metadata": {},
   "outputs": [],
   "source": [
    "# Device Puerto 5\n",
    "serial_num = str('83814949')"
   ]
  },
  {
   "cell_type": "code",
   "execution_count": 7,
   "metadata": {},
   "outputs": [
    {
     "name": "stdout",
     "output_type": "stream",
     "text": [
      "Homing Motor\n",
      "Moving Motor Forward at t =  0.0\n",
      "Pause at t =  3.8097572326660156\n",
      "Moving Motor Forward at t =  5.812042474746704\n",
      "Pause at t =  9.725464344024658\n",
      "Moving Motor Forward at t =  11.726611137390137\n",
      "Pause at t =  15.514995336532593\n",
      "Moving Motor Forward at t =  17.516632080078125\n",
      "Pause at t =  21.512812852859497\n",
      "Moving Motor Backward at t =  23.513747453689575\n",
      "Pause at t =  27.333569526672363\n",
      "Moving Motor Backward at t =  29.334723711013794\n",
      "Pause at t =  33.15541124343872\n",
      "Moving Motor Backward at t =  35.157310009002686\n",
      "Pause at t =  38.99285173416138\n",
      "Moving Motor Backward at t =  40.993937730789185\n",
      "Pause at t =  44.91052746772766\n",
      "FINISHED at t =  46.91157364845276\n"
     ]
    }
   ],
   "source": [
    "DeviceManagerCLI.BuildDeviceList()\n",
    "controller = TCubeDCServo.CreateTCubeDCServo(serial_num)\n",
    "# controller = KCubeDCServo.CreateKCubeDCServo(serial_num)\n",
    "\n",
    "if not controller == None:\n",
    "    controller.Connect(serial_num)\n",
    "    \n",
    "    if not controller.IsSettingsInitialized():\n",
    "        controller.WaitForSettingsInitialized(3000)\n",
    "        \n",
    "    controller.StartPolling(50)\n",
    "    time.sleep(.1)\n",
    "    controller.EnableDevice()\n",
    "    time.sleep(.1)\n",
    "    \n",
    "    config = controller.LoadMotorConfiguration(serial_num, DeviceConfiguration.DeviceSettingsUseOptionType.UseFileSettings)\n",
    "    config.DeviceSettingsName = str('Z725B')\n",
    "    config.UpdateCurrentConfiguration()\n",
    "    controller.SetSettings(controller.MotorDeviceSettings, True, False)\n",
    "    \n",
    "    print('Homing Motor')\n",
    "    #Hacemos que el tornillo se mueva hasta su posición base\n",
    "    controller.Home(60000)\n",
    "    \n",
    "    jog_params = controller.GetJogParams()\n",
    "    jog_params.StepSize = Decimal(1) #Cambiamos cuanto se mueve nuestro tornillo en cada paso \n",
    "    jog_params.MaxVelocity = Decimal(1) #Cambiamos la velocidad máxima a la que se mueve en cada paso\n",
    "    jog_params.JogMode = JogParametersBase.JogModes.SingleStep \n",
    "    \n",
    "    controller.SetJogParams(jog_params) #Incorporamos los nuevos parámetros a las instrucciones de movimiento\n",
    "    \n",
    "    pause_time = 2 #Tiempo de pausa entre movimientos (en segundos)\n",
    "    forward_movements = 4 #Number of forward movements\n",
    "    backward_movements = 4 #Number of backward movements\n",
    "    start_time = time.time() #Iniciamos el origen de tiempos\n",
    "    \n",
    "    for _ in range(forward_movements):\n",
    "        print('Moving Motor Forward at t = ', time.time() - start_time)\n",
    "        controller.MoveJog(MotorDirection.Forward, 60000)\n",
    "        print('Pause at t = ', time.time() - start_time)\n",
    "        time.sleep(pause_time)\n",
    "        \n",
    "    for _ in range(backward_movements):\n",
    "        print('Moving Motor Backward at t = ', time.time() - start_time)\n",
    "        controller.MoveJog(MotorDirection.Backward, 60000)\n",
    "        print('Pause at t = ', time.time() - start_time)\n",
    "        time.sleep(pause_time)\n",
    "    \n",
    "    \n",
    "    print('FINISHED at t = ', time.time() - start_time)\n",
    "    controller.StopPolling()\n",
    "    controller.Disconnect(False)"
   ]
  },
  {
   "cell_type": "code",
   "execution_count": null,
   "metadata": {},
   "outputs": [],
   "source": []
  }
 ],
 "metadata": {
  "kernelspec": {
   "display_name": "base",
   "language": "python",
   "name": "python3"
  },
  "language_info": {
   "codemirror_mode": {
    "name": "ipython",
    "version": 3
   },
   "file_extension": ".py",
   "mimetype": "text/x-python",
   "name": "python",
   "nbconvert_exporter": "python",
   "pygments_lexer": "ipython3",
   "version": "3.11.5"
  }
 },
 "nbformat": 4,
 "nbformat_minor": 2
}
