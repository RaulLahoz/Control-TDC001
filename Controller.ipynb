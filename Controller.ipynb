{
 "cells": [
  {
   "cell_type": "code",
   "execution_count": 1,
   "metadata": {},
   "outputs": [],
   "source": [
    "import time\n",
    "import clr\n",
    "import os"
   ]
  },
  {
   "cell_type": "code",
   "execution_count": 2,
   "metadata": {},
   "outputs": [],
   "source": [
    "clr.AddReference(r\"C:\\Program Files\\Thorlabs\\Kinesis\\Thorlabs.MotionControl.DeviceManagerCLI.dll\")\n",
    "clr.AddReference(r\"C:\\Program Files\\Thorlabs\\Kinesis\\Thorlabs.MotionControl.GenericMotorCLI.dll\")\n",
    "clr.AddReference(r\"C:\\Program Files\\Thorlabs\\Kinesis\\Thorlabs.MotionControl.KCube.DCServoCLI.dll\")\n",
    "\n",
    "clr.AddReference(r\"C:\\Program Files\\Thorlabs\\Kinesis\\Thorlabs.MotionControl.TCube.DCServoCLI.dll\")\n",
    "\n",
    "from Thorlabs.MotionControl.DeviceManagerCLI import *\n",
    "from Thorlabs.MotionControl.GenericMotorCLI import *\n",
    "from Thorlabs.MotionControl.GenericMotorCLI import KCubeMotor\n",
    "from Thorlabs.MotionControl.GenericMotorCLI.ControlParameters import JogParametersBase\n",
    "from Thorlabs.MotionControl.KCube.DCServoCLI import *\n",
    "from System import Decimal\n",
    "\n",
    "from Thorlabs.MotionControl.TCube.DCServoCLI import *"
   ]
  },
  {
   "cell_type": "code",
   "execution_count": 3,
   "metadata": {},
   "outputs": [],
   "source": [
    "# Device SN\n",
    "serial_num = str('83815214')"
   ]
  },
  {
   "cell_type": "code",
   "execution_count": null,
   "metadata": {},
   "outputs": [
    {
     "name": "stdout",
     "output_type": "stream",
     "text": [
      "Homing Motor\n",
      "Moving Motor Forward at t =  0.0\n",
      "Position: 0.50007, time: 2.3732757568359375\n",
      "End pause at time :7.374685049057007\n",
      "Moving Motor Forward at t =  7.374685049057007\n",
      "Position: 0.99997, time: 10.002147197723389\n",
      "End pause at time :15.002880096435547\n",
      "Moving Motor Forward at t =  15.002880096435547\n",
      "Position: 1.5, time: 17.51856756210327\n",
      "End pause at time :22.519659519195557\n",
      "Moving Motor Backward at t =  22.519659519195557\n",
      "Position: 0.99994, time: 24.939652919769287\n",
      "End pause at time :29.941157579421997\n",
      "Moving Motor Backward at t =  29.941157579421997\n",
      "Position: 0.49996, time: 32.37703561782837\n",
      "End pause at time :37.37851643562317\n",
      "Moving Motor Backward at t =  37.37851643562317\n",
      "Position: -0.00009, time: 39.66991400718689\n",
      "End pause at time :44.67097592353821\n",
      "FINISHED at t =  44.67097592353821\n"
     ]
    }
   ],
   "source": [
    "DeviceManagerCLI.BuildDeviceList()\n",
    "controller = TCubeDCServo.CreateTCubeDCServo(serial_num)\n",
    "# controller = KCubeDCServo.CreateKCubeDCServo(serial_num)\n",
    "\n",
    "if not controller == None:\n",
    "    controller.Connect(serial_num)\n",
    "    \n",
    "    if not controller.IsSettingsInitialized():\n",
    "        controller.WaitForSettingsInitialized(3000)\n",
    "        \n",
    "    controller.StartPolling(50)\n",
    "    time.sleep(.1)\n",
    "    controller.EnableDevice()\n",
    "    time.sleep(.1)\n",
    "    \n",
    "    config = controller.LoadMotorConfiguration(serial_num, DeviceConfiguration.DeviceSettingsUseOptionType.UseFileSettings)\n",
    "    config.DeviceSettingsName = str('Z725B')\n",
    "    config.UpdateCurrentConfiguration()\n",
    "    controller.SetSettings(controller.MotorDeviceSettings, True, False)\n",
    "    \n",
    "    print('Homing Motor')\n",
    "    #Hacemos que el tornillo se mueva hasta su posición base\n",
    "    controller.Home(600000)\n",
    "    \n",
    "    jog_params = controller.GetJogParams()\n",
    "    jog_params.StepSize = Decimal(.5) #Cambiamos cuanto se mueve nuestro tornillo en cada paso \n",
    "    jog_params.MaxVelocity = Decimal(1) #Cambiamos la velocidad máxima a la que se mueve en cada paso\n",
    "    jog_params.JogMode = JogParametersBase.JogModes.SingleStep \n",
    "    \n",
    "    controller.SetJogParams(jog_params) #Incorporamos los nuevos parámetros a las instrucciones de movimiento\n",
    "    \n",
    "    pause_time = 5 #Tiempo de pausa entre movimientos (en segundos)\n",
    "    forward_movements = 3 #Number of forward movements\n",
    "    backward_movements = 0 #Number of backward movements\n",
    "    start_time = time.time() #Iniciamos el origen de tiempos\n",
    "\n",
    "    for _ in range(forward_movements):\n",
    "        print('Moving Motor Forward at t = ', time.time() - start_time)\n",
    "        controller.MoveJog(MotorDirection.Forward, 60000)\n",
    "        print(f'Position: {controller.Position}, time: {time.time() - start_time}')\n",
    "        time.sleep(pause_time)\n",
    "        print(f'End pause at time :{time.time() - start_time}')\n",
    "\n",
    "    for _ in range(backward_movements):\n",
    "        print('Moving Motor Backward at t = ', time.time() - start_time)\n",
    "        controller.MoveJog(MotorDirection.Backward, 60000)\n",
    "        print(f'Position: {controller.Position}, time: {time.time() - start_time}')\n",
    "        time.sleep(pause_time)\n",
    "        print(f'End pause at time :{time.time() - start_time}')\n",
    "\n",
    "    \n",
    "    print('FINISHED at t = ', time.time() - start_time)\n",
    "    controller.StopPolling()\n",
    "    controller.Disconnect(False)"
   ]
  },
  {
   "cell_type": "code",
   "execution_count": null,
   "metadata": {},
   "outputs": [],
   "source": []
  }
 ],
 "metadata": {
  "kernelspec": {
   "display_name": "Python 3",
   "language": "python",
   "name": "python3"
  },
  "language_info": {
   "codemirror_mode": {
    "name": "ipython",
    "version": 3
   },
   "file_extension": ".py",
   "mimetype": "text/x-python",
   "name": "python",
   "nbconvert_exporter": "python",
   "pygments_lexer": "ipython3",
   "version": "3.11.9"
  }
 },
 "nbformat": 4,
 "nbformat_minor": 2
}
